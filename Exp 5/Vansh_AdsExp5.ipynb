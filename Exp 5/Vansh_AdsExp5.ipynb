{
  "nbformat": 4,
  "nbformat_minor": 0,
  "metadata": {
    "colab": {
      "provenance": []
    },
    "kernelspec": {
      "name": "python3",
      "display_name": "Python 3"
    },
    "language_info": {
      "name": "python"
    }
  },
  "cells": [
    {
      "cell_type": "code",
      "execution_count": 1,
      "metadata": {
        "id": "V7uzAUXMKJ3G"
      },
      "outputs": [],
      "source": [
        "import numpy as np\n",
        "import pandas as pd\n",
        "from sklearn.model_selection import train_test_split\n",
        "from sklearn.ensemble import RandomForestClassifier\n",
        "from sklearn.metrics import classification_report\n",
        "from imblearn.over_sampling import SMOTE, BorderlineSMOTE, SVMSMOTE, ADASYN\n",
        "from sklearn.impute import SimpleImputer"
      ]
    },
    {
      "cell_type": "code",
      "source": [],
      "metadata": {
        "id": "BvwTYIZTrenp"
      },
      "execution_count": null,
      "outputs": []
    },
    {
      "cell_type": "code",
      "source": [
        "data=pd.read_csv('/content/heart 2.csv')"
      ],
      "metadata": {
        "id": "zgv2yoH6Ogks"
      },
      "execution_count": 5,
      "outputs": []
    },
    {
      "cell_type": "code",
      "source": [
        "data.columns"
      ],
      "metadata": {
        "colab": {
          "base_uri": "https://localhost:8080/"
        },
        "id": "UETgrEz1RIjk",
        "outputId": "790c5df8-849b-4108-f3e2-562e342d0407"
      },
      "execution_count": 7,
      "outputs": [
        {
          "output_type": "execute_result",
          "data": {
            "text/plain": [
              "Index(['age', 'sex', 'cp', 'trestbps', 'chol', 'fbs', 'restecg', 'thalach',\n",
              "       'exang', 'oldpeak', 'slope', 'ca', 'thal', 'target'],\n",
              "      dtype='object')"
            ]
          },
          "metadata": {},
          "execution_count": 7
        }
      ]
    },
    {
      "cell_type": "code",
      "source": [
        "num_rows = len(data)\n",
        "print(num_rows)"
      ],
      "metadata": {
        "colab": {
          "base_uri": "https://localhost:8080/"
        },
        "id": "PsgLJ4gea7pO",
        "outputId": "1e8716d9-3606-407c-d56b-7545522018b7"
      },
      "execution_count": 6,
      "outputs": [
        {
          "output_type": "stream",
          "name": "stdout",
          "text": [
            "1025\n"
          ]
        }
      ]
    },
    {
      "cell_type": "code",
      "source": [
        "# Perform one-hot encoding on categorical variables\n",
        "data_encoded = pd.get_dummies(data)\n",
        "\n",
        "# Assuming 'stroke' is your target variable\n",
        "X = data_encoded.drop(columns=['target'])  # Features\n",
        "y = data_encoded['target']  # Target variable\n",
        "\n",
        "# Split the dataset into training and testing sets\n",
        "X_train, X_test, y_train, y_test = train_test_split(X, y, test_size=0.2, random_state=42)"
      ],
      "metadata": {
        "id": "lKbahWETSSoM"
      },
      "execution_count": 8,
      "outputs": []
    },
    {
      "cell_type": "code",
      "source": [
        "# Perform imputation to handle missing values\n",
        "imputer = SimpleImputer(strategy='mean')\n",
        "X_train= imputer.fit_transform(X_train)\n",
        "X_test = imputer.transform(X_test)"
      ],
      "metadata": {
        "id": "eT1sO4MSSmq9"
      },
      "execution_count": 9,
      "outputs": []
    },
    {
      "cell_type": "code",
      "source": [
        "# Dictionary to store results for different SMOTE techniques\n",
        "results = {}"
      ],
      "metadata": {
        "id": "wnn9Rp2bTLM8"
      },
      "execution_count": 10,
      "outputs": []
    },
    {
      "cell_type": "code",
      "source": [
        "# Function to print class distribution\n",
        "def print_class_distribution(y):\n",
        "    counts = y.value_counts()\n",
        "    ratio = counts[0] / counts[1]\n",
        "    print(\"Class 0 count:\", counts[0])\n",
        "    print(\"Class 1 count:\", counts[1])\n",
        "    print(\"Ratio of Class 0 to Class 1:\", ratio)"
      ],
      "metadata": {
        "id": "SCky_p5JUX71"
      },
      "execution_count": 11,
      "outputs": []
    },
    {
      "cell_type": "code",
      "source": [
        "from sklearn.impute import SimpleImputer\n",
        "\n",
        "# Identify NaN values in y_train\n",
        "nan_indices = np.isnan(y_train)\n",
        "\n",
        "# Replace NaN values with the most frequent class\n",
        "most_frequent_class = y_train.mode()[0]\n",
        "y_train_imputed = y_train.copy()\n",
        "y_train_imputed[nan_indices] = most_frequent_class\n"
      ],
      "metadata": {
        "id": "uBCazSMktBJw"
      },
      "execution_count": 12,
      "outputs": []
    },
    {
      "cell_type": "code",
      "source": [
        "# SMOTE\n",
        "print(\"\\nResults for SMOTE:\")\n",
        "print(\"Before SMOTE:\")\n",
        "print_class_distribution(y_train)\n",
        "smote = SMOTE(random_state=42)\n",
        "X_resampled, y_resampled = smote.fit_resample(X_train, y_train)\n",
        "print(\"\\nAfter SMOTE:\")\n",
        "print_class_distribution(y_resampled)\n",
        "results['SMOTE'] = (X_resampled, y_resampled)"
      ],
      "metadata": {
        "colab": {
          "base_uri": "https://localhost:8080/"
        },
        "id": "r1o9yOMcTN78",
        "outputId": "869d1f2b-254b-42b0-966b-bb3d8ddc5951"
      },
      "execution_count": 13,
      "outputs": [
        {
          "output_type": "stream",
          "name": "stdout",
          "text": [
            "\n",
            "Results for SMOTE:\n",
            "Before SMOTE:\n",
            "Class 0 count: 397\n",
            "Class 1 count: 423\n",
            "Ratio of Class 0 to Class 1: 0.9385342789598109\n",
            "\n",
            "After SMOTE:\n",
            "Class 0 count: 423\n",
            "Class 1 count: 423\n",
            "Ratio of Class 0 to Class 1: 1.0\n"
          ]
        }
      ]
    },
    {
      "cell_type": "code",
      "source": [
        "# Borderline-SMOTE\n",
        "print(\"\\nResults for Borderline-SMOTE:\")\n",
        "print(\"Before Borderline-SMOTE:\")\n",
        "print_class_distribution(y_train)\n",
        "borderline_smote = BorderlineSMOTE(random_state=42)\n",
        "X_resampled, y_resampled = borderline_smote.fit_resample(X_train, y_train)\n",
        "print(\"\\nAfter Borderline-SMOTE:\")\n",
        "print_class_distribution(y_resampled)\n",
        "results['Borderline-SMOTE'] = (X_resampled, y_resampled)"
      ],
      "metadata": {
        "colab": {
          "base_uri": "https://localhost:8080/"
        },
        "id": "2Mb-RjlcTPbL",
        "outputId": "d301c49d-e636-414c-bc49-d32dd6867ff4"
      },
      "execution_count": 14,
      "outputs": [
        {
          "output_type": "stream",
          "name": "stdout",
          "text": [
            "\n",
            "Results for Borderline-SMOTE:\n",
            "Before Borderline-SMOTE:\n",
            "Class 0 count: 397\n",
            "Class 1 count: 423\n",
            "Ratio of Class 0 to Class 1: 0.9385342789598109\n",
            "\n",
            "After Borderline-SMOTE:\n",
            "Class 0 count: 423\n",
            "Class 1 count: 423\n",
            "Ratio of Class 0 to Class 1: 1.0\n"
          ]
        }
      ]
    },
    {
      "cell_type": "code",
      "source": [
        "# Borderline-SMOTE SVM\n",
        "print(\"\\nResults for Borderline-SMOTE SVM:\")\n",
        "print(\"Before Borderline-SMOTE SVM:\")\n",
        "print_class_distribution(y_train)\n",
        "svm_smote = SVMSMOTE(random_state=42)\n",
        "X_resampled, y_resampled = svm_smote.fit_resample(X_train, y_train)\n",
        "print(\"\\nAfter Borderline-SMOTE SVM:\")\n",
        "print_class_distribution(y_resampled)\n",
        "results['Borderline-SMOTE SVM'] = (X_resampled, y_resampled)"
      ],
      "metadata": {
        "colab": {
          "base_uri": "https://localhost:8080/"
        },
        "id": "4uNaktN-TRJV",
        "outputId": "9807acc5-74d8-4dfe-e43f-8a223c6aaa64"
      },
      "execution_count": 15,
      "outputs": [
        {
          "output_type": "stream",
          "name": "stdout",
          "text": [
            "\n",
            "Results for Borderline-SMOTE SVM:\n",
            "Before Borderline-SMOTE SVM:\n",
            "Class 0 count: 397\n",
            "Class 1 count: 423\n",
            "Ratio of Class 0 to Class 1: 0.9385342789598109\n",
            "\n",
            "After Borderline-SMOTE SVM:\n",
            "Class 0 count: 423\n",
            "Class 1 count: 423\n",
            "Ratio of Class 0 to Class 1: 1.0\n"
          ]
        }
      ]
    },
    {
      "cell_type": "code",
      "source": [
        "# Train and evaluate a machine learning model for each resampled dataset\n",
        "for technique, (X_resampled, y_resampled) in results.items():\n",
        "    print(f\"\\nTraining RandomForestClassifier for {technique}:\")\n",
        "    # Train a RandomForestClassifier on the resampled data\n",
        "    clf = RandomForestClassifier(random_state=42)\n",
        "    clf.fit(X_resampled, y_resampled)\n",
        "\n",
        "    # Evaluate the model on the original test set\n",
        "    y_pred = clf.predict(X_test)\n",
        "    print(\"\\nClassification Report on Test Set:\")\n",
        "    print(classification_report(y_test, y_pred))"
      ],
      "metadata": {
        "colab": {
          "base_uri": "https://localhost:8080/"
        },
        "id": "Rkfi_4HOSAz7",
        "outputId": "4b8620b9-3302-448e-bc15-937baca79a06"
      },
      "execution_count": 16,
      "outputs": [
        {
          "output_type": "stream",
          "name": "stdout",
          "text": [
            "\n",
            "Training RandomForestClassifier for SMOTE:\n",
            "\n",
            "Classification Report on Test Set:\n",
            "              precision    recall  f1-score   support\n",
            "\n",
            "           0       0.97      1.00      0.99       102\n",
            "           1       1.00      0.97      0.99       103\n",
            "\n",
            "    accuracy                           0.99       205\n",
            "   macro avg       0.99      0.99      0.99       205\n",
            "weighted avg       0.99      0.99      0.99       205\n",
            "\n",
            "\n",
            "Training RandomForestClassifier for Borderline-SMOTE:\n",
            "\n",
            "Classification Report on Test Set:\n",
            "              precision    recall  f1-score   support\n",
            "\n",
            "           0       0.97      1.00      0.99       102\n",
            "           1       1.00      0.97      0.99       103\n",
            "\n",
            "    accuracy                           0.99       205\n",
            "   macro avg       0.99      0.99      0.99       205\n",
            "weighted avg       0.99      0.99      0.99       205\n",
            "\n",
            "\n",
            "Training RandomForestClassifier for Borderline-SMOTE SVM:\n",
            "\n",
            "Classification Report on Test Set:\n",
            "              precision    recall  f1-score   support\n",
            "\n",
            "           0       0.97      1.00      0.99       102\n",
            "           1       1.00      0.97      0.99       103\n",
            "\n",
            "    accuracy                           0.99       205\n",
            "   macro avg       0.99      0.99      0.99       205\n",
            "weighted avg       0.99      0.99      0.99       205\n",
            "\n"
          ]
        }
      ]
    },
    {
      "cell_type": "code",
      "source": [],
      "metadata": {
        "id": "SrS5N0x6ulFT"
      },
      "execution_count": null,
      "outputs": []
    }
  ]
}