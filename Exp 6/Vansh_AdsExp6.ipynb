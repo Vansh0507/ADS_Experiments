{
  "nbformat": 4,
  "nbformat_minor": 0,
  "metadata": {
    "colab": {
      "provenance": []
    },
    "kernelspec": {
      "name": "python3",
      "display_name": "Python 3"
    },
    "language_info": {
      "name": "python"
    }
  },
  "cells": [
    {
      "cell_type": "code",
      "source": [
        "import pandas as pd\n",
        "from sklearn.model_selection import train_test_split\n",
        "from sklearn.linear_model import LinearRegression\n",
        "from sklearn.ensemble import IsolationForest\n",
        "from sklearn.covariance import EllipticEnvelope\n",
        "from sklearn.neighbors import LocalOutlierFactor\n",
        "from sklearn.svm import OneClassSVM\n",
        "from sklearn.metrics import mean_absolute_error\n",
        "\n",
        "df = pd.read_csv('/content/Q2Q3_input.csv')\n",
        "\n",
        "\n",
        "# Retrieve the array\n",
        "data = df.values\n",
        "\n",
        "# Split into input and output elements\n",
        "X, y = data[:, :-1], data[:, -1]\n",
        "\n",
        "# Split into train and test sets\n",
        "X_train, X_test, y_train, y_test = train_test_split(X, y, test_size=0.33, random_state=1)\n",
        "\n",
        "# Define a function for processing each model\n",
        "def process_model(model, X_train, y_train, X_test, y_test, name):\n",
        "    # Identify outliers\n",
        "    outlier_predictions = model.fit_predict(X_train)\n",
        "\n",
        "    # Select non-outliers\n",
        "    non_outliers_mask = outlier_predictions != -1\n",
        "    X_train_updated, y_train_updated = X_train[non_outliers_mask], y_train[non_outliers_mask]\n",
        "\n",
        "    # Fit the Linear Regression model\n",
        "    linear_model = LinearRegression()\n",
        "    linear_model.fit(X_train_updated, y_train_updated)\n",
        "\n",
        "    # Evaluate the model on the test set\n",
        "    yhat = linear_model.predict(X_test)\n",
        "\n",
        "    # Evaluate predictions using Mean Absolute Error\n",
        "    mae = mean_absolute_error(y_test, yhat)\n",
        "    print(f'MAE ({name}): %.3f' % mae)\n",
        "\n",
        "# Isolation Forest\n",
        "iso_model = IsolationForest(contamination=0.01)\n",
        "process_model(iso_model, X_train, y_train, X_test, y_test, \"Isolation Forest\")\n",
        "\n",
        "# Minimum Covariance Determinant\n",
        "mcd_model = EllipticEnvelope(contamination=0.01)\n",
        "process_model(mcd_model, X_train, y_train, X_test, y_test, \"Minimum Covariance Determinant\")\n",
        "\n",
        "# Local Outlier Factor\n",
        "lof_model = LocalOutlierFactor(contamination=0.01)\n",
        "process_model(lof_model, X_train, y_train, X_test, y_test, \"Local Outlier Factor\")\n",
        "\n",
        "# One-Class SVM\n",
        "svm_model = OneClassSVM(nu=0.01)\n",
        "process_model(svm_model, X_train, y_train, X_test, y_test, \"One-Class SVM\")\n"
      ],
      "metadata": {
        "colab": {
          "base_uri": "https://localhost:8080/"
        },
        "id": "zp_dfUqE4QmB",
        "outputId": "e19f98ff-3f3c-4abc-8ea3-4ae252ecfa3c"
      },
      "execution_count": null,
      "outputs": [
        {
          "output_type": "stream",
          "name": "stdout",
          "text": [
            "MAE (Isolation Forest): 0.622\n",
            "MAE (Minimum Covariance Determinant): 0.602\n",
            "MAE (Local Outlier Factor): 0.602\n",
            "MAE (One-Class SVM): 0.603\n"
          ]
        }
      ]
    }
  ]
}